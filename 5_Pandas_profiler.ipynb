{
 "cells": [
  {
   "cell_type": "code",
   "execution_count": 5,
   "id": "f0f59882",
   "metadata": {},
   "outputs": [],
   "source": [
    "import numpy as np\n",
    "import pandas as pd\n",
    "from ydata_profiling import ProfileReport"
   ]
  },
  {
   "cell_type": "code",
   "execution_count": 6,
   "id": "c707261b",
   "metadata": {},
   "outputs": [],
   "source": [
    "titanic = pd.read_csv('Titanic-Dataset.csv')"
   ]
  },
  {
   "cell_type": "code",
   "execution_count": 7,
   "id": "e29ec087",
   "metadata": {},
   "outputs": [],
   "source": [
    "# Clean the data first\n",
    "titanic.replace('--', np.nan, inplace=True)"
   ]
  },
  {
   "cell_type": "code",
   "execution_count": 8,
   "id": "eeaeaabd",
   "metadata": {},
   "outputs": [
    {
     "name": "stderr",
     "output_type": "stream",
     "text": [
      "Summarize dataset: 100%|██████████| 45/45 [00:01<00:00, 27.70it/s, Completed]                       \n",
      "Generate report structure: 100%|██████████| 1/1 [00:02<00:00,  2.17s/it]\n",
      "Render HTML: 100%|██████████| 1/1 [00:00<00:00,  1.66it/s]\n",
      "Export report to file: 100%|██████████| 1/1 [00:00<00:00, 373.82it/s]\n"
     ]
    }
   ],
   "source": [
    "# Generate report (disable auto correlation to suppress warning)\n",
    "prof = ProfileReport(titanic, correlations={\"auto\": {\"calculate\": False}}, missing_diagrams={\"heatmap\": False})\n",
    "\n",
    "# Export report\n",
    "prof.to_file(output_file='output.html')"
   ]
  }
 ],
 "metadata": {
  "kernelspec": {
   "display_name": ".venv",
   "language": "python",
   "name": "python3"
  },
  "language_info": {
   "codemirror_mode": {
    "name": "ipython",
    "version": 3
   },
   "file_extension": ".py",
   "mimetype": "text/x-python",
   "name": "python",
   "nbconvert_exporter": "python",
   "pygments_lexer": "ipython3",
   "version": "3.10.18"
  }
 },
 "nbformat": 4,
 "nbformat_minor": 5
}
